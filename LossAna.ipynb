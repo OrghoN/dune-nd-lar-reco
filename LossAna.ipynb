{
 "cells": [
  {
   "cell_type": "code",
   "execution_count": null,
   "metadata": {},
   "outputs": [],
   "source": [
    "import os\n",
    "import pandas as pd\n",
    "import matplotlib.pyplot as plt\n",
    "import numpy as np\n",
    "%matplotlib inline\n",
    "\n",
    "parameters = {'axes.labelsize': 25,\n",
    "              'axes.titlesize': 35,\n",
    "              'xtick.labelsize': 20,\n",
    "              'ytick.labelsize': 20,\n",
    "              'legend.fontsize': 20,\n",
    "              }\n",
    "plt.rcParams.update(parameters)"
   ]
  },
  {
   "cell_type": "code",
   "execution_count": null,
   "metadata": {},
   "outputs": [],
   "source": [
    "target_dir='/media/hdd1/jwolcott/data/dune/nd/nd-lar-reco/train/1file-30k-nothresh'\n",
    "csvs=[os.path.join(target_dir,f) for f in os.listdir(target_dir) if f.endswith('.csv')]\n",
    "dfs=[pd.read_csv(f) for f in csvs]\n",
    "for idx in np.argsort([df.iter.min() for df in dfs]):\n",
    "    df=dfs[idx]\n",
    "    print(csvs[idx],df.iter.min(),'=>',df.iter.max())\n",
    "df=pd.concat([dfs[idx] for idx in np.argsort([df.iter.min() for df in dfs])])\n",
    "print(df.keys())"
   ]
  },
  {
   "cell_type": "code",
   "execution_count": null,
   "metadata": {},
   "outputs": [],
   "source": [
    "plotdir=\"/media/hdd1/jwolcott/data/dune/nd/nd-lar-reco/plots/15k-no-neutron-thresh\"\n",
    "\n",
    "fig,ax=plt.subplots(figsize=(12,8),facecolor='w')\n",
    "sdf=df\n",
    "ax.plot(sdf.iter,sdf.ppn_loss, label=\"PPN loss\")\n",
    "ax.plot(sdf.iter,sdf.loss, label=\"SS loss\")\n",
    "#ax.plot(sdf.iter,sdf.frag_edge_loss)\n",
    "#ax.plot(sdf.iter,sdf.frag_node_loss)\n",
    "ax.set_yscale('log')\n",
    "#ax.set_ylim(0.01,5.0)\n",
    "ax.set_xlabel(\"Iteration\")\n",
    "ax.set_ylabel(\"Loss\")\n",
    "ax.legend()\n",
    "ax.grid(True)\n",
    "plt.show()\n",
    "\n",
    "for ext in (\"pdf\", \"png\"):\n",
    "    fig.savefig(os.path.join(plotdir, \"loss.\" + ext))"
   ]
  },
  {
   "cell_type": "code",
   "execution_count": null,
   "metadata": {},
   "outputs": [],
   "source": [
    "\n",
    "\n",
    "fig,ax=plt.subplots(figsize=(12,8),facecolor='w')\n",
    "sdf=df.query('iter<15000')\n",
    "ax.plot(sdf.iter,sdf.ppn_loss)\n",
    "ax.plot(sdf.iter,sdf.loss)\n",
    "#ax.plot(sdf.iter,sdf.frag_edge_loss)\n",
    "#ax.plot(sdf.iter,sdf.frag_node_loss)\n",
    "ax.set_yscale('log')\n",
    "ax.set_ylim(0.01,5.0)\n",
    "ax.grid(True)\n",
    "plt.show()"
   ]
  },
  {
   "cell_type": "code",
   "execution_count": null,
   "metadata": {},
   "outputs": [],
   "source": []
  }
 ],
 "metadata": {
  "kernelspec": {
   "display_name": "Python 3",
   "language": "python",
   "name": "python3"
  },
  "language_info": {
   "codemirror_mode": {
    "name": "ipython",
    "version": 3
   },
   "file_extension": ".py",
   "mimetype": "text/x-python",
   "name": "python",
   "nbconvert_exporter": "python",
   "pygments_lexer": "ipython3",
   "version": "3.6.9"
  }
 },
 "nbformat": 4,
 "nbformat_minor": 4
}