{
 "cells": [
  {
   "cell_type": "code",
   "execution_count": null,
   "metadata": {
    "collapsed": true
   },
   "outputs": [],
   "source": []
  },
  {
   "cell_type": "code",
   "execution_count": null,
   "outputs": [],
   "source": [],
   "metadata": {
    "collapsed": false,
    "pycharm": {
     "name": "#%%FILE_PATHS = {\n"
    }
   }
  },
  {
   "cell_type": "markdown",
   "source": [
    "# `Calibration-pixelmatch.ipynb`: Simulation-based calibration for ndlar-sim for hits (voxel-match version).\n",
    "Attempts to determine the conversion factor from \"electrons at anode\" to MeV by matching voxels in a pair of files---one that was voxelized directly from edep-sim, and another that was run through larnd-sim and then subsequently voxelized onto the same grid.\n",
    "\n",
    "This apes a lot of the functionality of the Plots.py chain, but it's implemented separately since that toolkit doesn't have any support for comparisons of two files that are have \"the same\" events in them, and implementing it would be a nightmare.\n",
    "\n",
    "Unfortunately it turns out that this method doesn't work.  I believe the main reason is the double-discretization that happens for the larnd-sim hits: first when mapped onto the anode pads, and then again when forced onto the grid in the reconstruction.  The result is that energy often is shifted to a neighboring voxel due to this rasterization (confirmed by examining event displays) in a difficult-to-undo way.\n",
    "The attempt is kept here for posterity...\n",
    "\n",
    "original author: J. Wolcott <jwolcott@fnal.gov>\n",
    "date:            March 2022"
   ],
   "metadata": {
    "collapsed": false
   }
  },
  {
   "cell_type": "code",
   "execution_count": null,
   "outputs": [],
   "source": [
    "import sys\n",
    "sys.path.append(\"/media/disk1/jwolcott/app/dune-nd-lar-reco\")"
   ],
   "metadata": {
    "collapsed": false,
    "pycharm": {
     "name": "#%%\n"
    }
   }
  },
  {
   "cell_type": "code",
   "execution_count": null,
   "outputs": [],
   "source": [
    "# need an edep-sim and larnd-sim file from the *same set of events*\n",
    "FILE_PATHS = {\n",
    "    \"edep\":  \"/media/disk1/jwolcott/data/scratch/larcv_neutrino.0_1624283861.larcv.npz\",\n",
    "    \"larnd\": \"/media/disk1/jwolcott/data/scratch/neutrino.0_1624283861.larndsim.larcv.reco.npz\"\n",
    "}"
   ],
   "metadata": {
    "collapsed": false,
    "pycharm": {
     "name": "#%%\n"
    }
   }
  },
  {
   "cell_type": "code",
   "execution_count": null,
   "outputs": [],
   "source": [
    "REQUIRED_VARS = [\"input_data\", \"event_base\"]"
   ],
   "metadata": {
    "collapsed": false,
    "pycharm": {
     "name": "#%%\n"
    }
   }
  },
  {
   "cell_type": "code",
   "execution_count": null,
   "outputs": [],
   "source": [
    "# Load the reco output from the files here\n",
    "import numpy as np\n",
    "files =\t{ k: np.load(open(f, \"rb\"), allow_pickle=True) for k, f in FILE_PATHS.items() }\n",
    "\n",
    "# these are usually dicts, so the actual type needs to be reconstructed\n",
    "DATA = {}\n",
    "for filetype, datafile in files.items():\n",
    "    for k in datafile:\n",
    "        if k not in REQUIRED_VARS:\n",
    "            continue\n",
    "\n",
    "        if k not in DATA:\n",
    "            DATA[k] = {}\n",
    "\n",
    "        print(\"Loading key:\", k, type(datafile[k]))\n",
    "        try:\n",
    "            DATA[k][filetype] = datafile[k].item()\n",
    "        except:\n",
    "            DATA[k][filetype] = datafile[k]\n"
   ],
   "metadata": {
    "collapsed": false,
    "pycharm": {
     "name": "#%%\n"
    }
   }
  },
  {
   "cell_type": "code",
   "execution_count": null,
   "outputs": [],
   "source": [],
   "metadata": {
    "collapsed": false,
    "pycharm": {
     "name": "#%%\n"
    }
   }
  },
  {
   "cell_type": "code",
   "execution_count": null,
   "outputs": [],
   "source": [],
   "metadata": {
    "collapsed": false,
    "pycharm": {
     "name": "#%%\n"
    }
   }
  },
  {
   "cell_type": "code",
   "execution_count": null,
   "outputs": [],
   "source": [
    "# now find the events that match between the two files  (usually some don't due to suppression of events with no hits)\n",
    "\n",
    "event_ids = { k: set(np.unique([evb[0][2] for evb in DATA[\"event_base\"][k]])) for k in FILE_PATHS }\n",
    "common_evts = set.intersection(*event_ids.values())\n",
    "\n",
    "keep = {}\n",
    "for filetype, product in DATA[\"event_base\"].items():\n",
    "    keep[filetype] = [idx for idx in range(len(product)) if product[idx][0][2] in common_evts]\n",
    "    print(\"for sample\", filetype, \"keep\", len(keep[filetype]), \"events\")#, keep[filetype])\n",
    "\n",
    "print(\"edep-sim:\", keep[\"edep\"])\n",
    "print(\"larnd-sim:\", keep[\"larnd\"])\n",
    "\n",
    "MATCHED_DATA = {}\n",
    "for k in DATA:\n",
    "    MATCHED_DATA[k] = {}\n",
    "    for filetype, product in DATA[k].items():\n",
    "        MATCHED_DATA[k][filetype] = [v for i, v in enumerate(DATA[k][filetype]) if i in keep[filetype]]"
   ],
   "metadata": {
    "collapsed": false,
    "pycharm": {
     "name": "#%%\n"
    }
   }
  },
  {
   "cell_type": "code",
   "execution_count": null,
   "outputs": [],
   "source": [
    "# plot some sanity checks on nhits to make sure it looks like the events actually match\n",
    "\n",
    "from matplotlib import pyplot as plt\n",
    "\n",
    "plt.figure(figsize=(8, 6), facecolor=\"white\")\n",
    "\n",
    "#print(MATCHED_DATA[\"input_data\"][\"larnd\"])\n",
    "nhits = { k: [len(ev) for ev in vals] for k, vals in MATCHED_DATA[\"input_data\"].items() }\n",
    "\n",
    "for datatype, hitlist in nhits.items():\n",
    "    plt.plot(range(len(hitlist)), hitlist, label=datatype)\n",
    "plt.xlabel(\"Event idx after cut\")\n",
    "plt.ylabel(\"$N_{hits}$\")\n",
    "plt.semilogy()\n",
    "plt.legend()\n",
    "plt.show()\n",
    "\n",
    "plt.figure(facecolor=\"white\")\n",
    "for datatype, hitlist in nhits.items():\n",
    "    plt.hist(hitlist, histtype='step', label=datatype, bins=np.logspace(0, 5, 50))\n",
    "plt.xlabel(\"$N_{hits}$\")\n",
    "plt.xlabel(\"Events\")\n",
    "plt.semilogx()\n",
    "plt.legend()\n",
    "plt.show()\n",
    "\n"
   ],
   "metadata": {
    "collapsed": false,
    "pycharm": {
     "name": "#%%\n"
    }
   }
  },
  {
   "cell_type": "code",
   "execution_count": null,
   "outputs": [],
   "source": [
    "# set up for making the histogram we need\n",
    "\n",
    "from plotting_helpers import hist_aggregate\n",
    "from utility_functions import find_matching_rows\n",
    "\n",
    "\n",
    "@hist_aggregate(\"mev_vs_adc\",\n",
    "                hist_dim=2,\n",
    "                bins=(np.logspace(4.7, 5.5, 100),\n",
    "                      np.logspace(-3, 0.2, 100)) )\n",
    "def agg_adc_vs_trueedep(vals):\n",
    "    \"\"\"    \"\"\"\n",
    "    edep_pos = np.array(vals[\"edep\"][:, :3])  # need to copy so array is contiguous and can be rearranged in find_matching_rows() below\n",
    "    larnd_pos = np.array(vals[\"larnd\"][:, :3]) # ditto\n",
    "\n",
    "#    print('edep_pos:', edep_pos.flags, edep_pos)\n",
    "#    print('larnd_pos:', larnd_pos.flags, larnd_pos)\n",
    "    larnd_match_idxs = find_matching_rows(larnd_pos, edep_pos)\n",
    "\n",
    "    larnd_electrons = []\n",
    "    edep_energy = []\n",
    "    edep_match_idxs = []\n",
    "    for idx in larnd_match_idxs[0]:\n",
    "        # print(\"considering larnd idx:\", idx)\n",
    "        # print(\"larnd row:\", larnd_pos[idx, None, :])\n",
    "        match_rows = find_matching_rows(edep_pos, larnd_pos[idx, None, :])  # the extra 'None' results in a 2D array, which we need for the find_matching_rows(), rather than a 1D one\n",
    "        if len(match_rows) > 1:\n",
    "            print(\"too many matches for vox at:\", larnd_pos[idx])\n",
    "            continue\n",
    "        elif len(match_rows) == 0:\n",
    "            print(\"coudn't find edep-sim row for allegedly matched larnd-sim row:\", larnd_pos[idx])\n",
    "            continue\n",
    "        edep_match_idxs.append(match_rows)\n",
    "\n",
    "        # print(\"matched:\")\n",
    "        # print(\"  edep:\", vals[\"edep\"][match_rows])\n",
    "        # print(\"  larnd:\", vals[\"larnd\"][idx])\n",
    "#        print(vals[\"edep\"][match_rows, 4], type(vals[\"edep\"][match_rows, 4]))\n",
    "        edep_energy.append(float(vals[\"edep\"][match_rows, 4]))  # type cast because otherwise it's a numpy array [[val]]\n",
    "        larnd_electrons.append(float(vals[\"larnd\"][idx, 4]))\n",
    "\n",
    "    unselected_edep_rows = np.delete(vals[\"edep\"], edep_match_idxs, axis=0)\n",
    "    unselected_larnd_rows = np.delete(vals[\"larnd\"], larnd_match_idxs, axis=0)\n",
    "    print(len(unselected_edep_rows), \"unmatched edep-sim hits (\", len(vals[\"edep\"]), \"total)\")\n",
    "    print(\"   10 most energetic:\")\n",
    "    print(unselected_edep_rows[unselected_edep_rows[:, 4].argsort()][-10:])\n",
    "    print(len(unselected_larnd_rows), \"unmatched larnd-sim hits (\", len(vals[\"larnd\"]), \"total)\")\n",
    "    print(\"   10 most energetic:\")\n",
    "    print(unselected_larnd_rows[unselected_larnd_rows[:, 4].argsort()][-10:])\n",
    "    # print(\"returning (electrons, energy) entries of lengths\", (len(larnd_electrons), len(edep_energy)))\n",
    "    # print(\"larnd_electrons[:20]:\", larnd_electrons[:20])\n",
    "    # print(\"edep_energy[:20]:\", edep_energy[:20])\n",
    "\n",
    "    return (larnd_electrons, edep_energy)"
   ],
   "metadata": {
    "collapsed": false,
    "pycharm": {
     "name": "#%%\n"
    }
   }
  },
  {
   "cell_type": "code",
   "execution_count": null,
   "outputs": [],
   "source": [
    "# more histogramming infrastructure\n",
    "\n",
    "import plotting_helpers\n",
    "@plotting_helpers.req_vars_hist([\"input_data\", \"event_base\"])\n",
    "def BuildHists(data, hists):\n",
    "    n_evt_by_ds = {dsname: len(d) for dsname, d in data[\"input_data\"].items()}\n",
    "    assert len(set(n_evt_by_ds.values())) == 1, \"Data sets do not have the same number of events: %s\" % n_evt_by_ds\n",
    "    n_evts = list(n_evt_by_ds.values())[0]\n",
    "    print('n_evts:', n_evt_by_ds)\n",
    "\n",
    "    for evt_idx in range(n_evts):\n",
    "        for agg_fn in (agg_adc_vs_trueedep,):\n",
    "            agg_fn({dsname: d[evt_idx] for dsname, d in data[\"input_data\"].items()}, hists)\n"
   ],
   "metadata": {
    "collapsed": false,
    "pycharm": {
     "name": "#%%\n"
    }
   }
  },
  {
   "cell_type": "code",
   "execution_count": null,
   "outputs": [],
   "source": [
    "# more histogramming infrastructure\n",
    "\n",
    "import numpy as np\n",
    "import matplotlib\n",
    "from matplotlib import pyplot as plt\n",
    "from matplotlib import colors\n",
    "\n",
    "def PlotHists(hists, outdir=None, fmts=None):\n",
    "    h = hists[\"mev_vs_adc\"]\n",
    "    fig = plt.figure(facecolor=\"white\")\n",
    "    ax = fig.add_subplot()\n",
    "    x, y = np.meshgrid(*h.bins)\n",
    "    im = ax.pcolormesh(x, y, h.data.T, cmap=\"Reds\", norm=colors.LogNorm(vmin=1e-1, vmax=h.data.T.max()))\n",
    "    plt.colorbar(im)\n",
    "\n",
    "    ax.set_xlabel(r\"$N_{e^{-}}$ at anode (larnd-sim)\")\n",
    "    ax.set_ylabel(\"True energy deposited in voxel (edep-sim) (MeV)\")\n",
    "\n",
    "    if not any(x is None for x in (outdir, fmts)):\n",
    "        plotting_helpers.savefig(fig, \"trueedep-vs-Nelec\", outdir, fmts)"
   ],
   "metadata": {
    "collapsed": false,
    "pycharm": {
     "name": "#%%\n"
    }
   }
  },
  {
   "cell_type": "code",
   "execution_count": null,
   "outputs": [],
   "source": [
    "# now go!\n",
    "\n",
    "hists = {}\n",
    "BuildHists(MATCHED_DATA, hists)\n"
   ],
   "metadata": {
    "collapsed": false,
    "pycharm": {
     "name": "#%%\n"
    }
   }
  },
  {
   "cell_type": "code",
   "execution_count": null,
   "outputs": [],
   "source": [
    "# make the plots\n",
    "\n",
    "PlotHists(hists, outdir=\"/tmp\")\n"
   ],
   "metadata": {
    "collapsed": false,
    "pycharm": {
     "name": "#%%# make the plots\n"
    }
   }
  }
 ],
 "metadata": {
  "kernelspec": {
   "display_name": "Python 3",
   "language": "python",
   "name": "python3"
  },
  "language_info": {
   "codemirror_mode": {
    "name": "ipython",
    "version": 2
   },
   "file_extension": ".py",
   "mimetype": "text/x-python",
   "name": "python",
   "nbconvert_exporter": "python",
   "pygments_lexer": "ipython2",
   "version": "2.7.6"
  }
 },
 "nbformat": 4,
 "nbformat_minor": 0
}