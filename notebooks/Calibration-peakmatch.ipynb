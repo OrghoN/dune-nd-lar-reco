{
 "cells": [
  {
   "cell_type": "code",
   "execution_count": null,
   "id": "3eae087a",
   "metadata": {},
   "outputs": [],
   "source": []
  },
  {
   "cell_type": "markdown",
   "source": [
    "# `Calibration-peakmatch.ipynb`:  Simulation-based calibration for ndlar-sim for hits (peak-matching version).\n",
    "Determines a fixed conversion factor from “electrons at anode” to MeV by matching the minimum-ionization peaks of energy deposits in a pair of files—one that was voxelized directly from edep-sim, and another that was run through larnd-sim and then subsequently voxelized onto the same grid.\n",
    "\n",
    "\n",
    "original author: J. Wolcott <jwolcott@fnal.gov>\n",
    "date: March 2022"
   ],
   "metadata": {
    "collapsed": false
   }
  },
  {
   "cell_type": "code",
   "execution_count": null,
   "outputs": [],
   "source": [
    "EDEP=\"/media/disk1/jwolcott/data/scratch/energies.edep.npy\"\n",
    "LARND=\"/media/disk1/jwolcott/data/scratch/energies.larndsim-uncalibrated.npy\""
   ],
   "metadata": {
    "collapsed": false,
    "pycharm": {
     "name": "#%%\n"
    }
   }
  },
  {
   "cell_type": "code",
   "execution_count": null,
   "id": "6ab73b35",
   "metadata": {},
   "outputs": [],
   "source": [
    "import numpy as np\n",
    "\n",
    "edep=np.load(EDEP)\n",
    "larnd=np.load(LARND)\n",
    "\n",
    "print(\"edep has\", len(edep), \"entries\")\n",
    "print(\"larnd has\", len(larnd), \"entries\")"
   ]
  },
  {
   "cell_type": "code",
   "execution_count": null,
   "id": "0949d67a",
   "metadata": {},
   "outputs": [],
   "source": [
    "from matplotlib import pyplot as plt\n",
    "\n",
    "BINS = np.logspace(4.5, 6, 100)\n",
    "ln_counts, ln_edges, patches = plt.hist(larnd, bins=BINS)\n",
    "plt.semilogx()\n",
    "plt.semilogy()\n",
    "plt.xlim(left=4e4)\n"
   ]
  },
  {
   "cell_type": "code",
   "execution_count": null,
   "id": "a020e1e1",
   "metadata": {},
   "outputs": [],
   "source": [
    "from matplotlib import pyplot as plt\n",
    "\n",
    "BINS = np.logspace(-3, 1, 100)\n",
    "CALIB = 8e4\n",
    "\n",
    "fig = plt.figure(figsize=(8,6))\n",
    "\n",
    "ed_counts, ed_edges, patches = plt.hist(edep, bins=BINS, alpha=0.5, label=\"edep-sim\")\n",
    "ln_counts, ln_edges, patches = plt.hist(larnd/CALIB, bins=BINS, alpha=0.5, label=r\"larnd-sim / %.1g\" % CALIB)\n",
    "\n",
    "plt.legend()\n",
    "plt.semilogx()\n",
    "plt.xlabel(\"Hit values\")\n",
    "plt.ylabel(\"Hits\")\n",
    "fig.show()"
   ]
  },
  {
   "cell_type": "code",
   "execution_count": null,
   "id": "19356117",
   "metadata": {
    "pycharm": {
     "name": "#%%\n"
    }
   },
   "outputs": [],
   "source": [
    "import numpy as np\n",
    "ed_max = np.argmax(ed_counts)\n",
    "ln_max = np.argmax(ln_counts)\n",
    "\n",
    "ed_peak = (ed_edges[ed_max]+ed_edges[ed_max+1])/2\n",
    "print(\"edep-sim max:\", ed_peak)\n",
    "ln_peak = (ln_edges[ln_max]+ln_edges[ln_max+1])/2*8e4\n",
    "print(\"larnd-sim max:\", ln_peak)\n",
    "\n",
    "print(\"calibration factor:\", ed_peak/ln_peak)\n"
   ]
  }
 ],
 "metadata": {
  "kernelspec": {
   "display_name": "Python 3",
   "language": "python",
   "name": "python3"
  },
  "language_info": {
   "codemirror_mode": {
    "name": "ipython",
    "version": 3
   },
   "file_extension": ".py",
   "mimetype": "text/x-python",
   "name": "python",
   "nbconvert_exporter": "python",
   "pygments_lexer": "ipython3",
   "version": "3.8.5"
  }
 },
 "nbformat": 4,
 "nbformat_minor": 5
}