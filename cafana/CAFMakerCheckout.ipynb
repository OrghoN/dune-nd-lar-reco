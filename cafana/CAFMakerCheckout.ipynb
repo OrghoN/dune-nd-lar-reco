{
 "cells": [
  {
   "cell_type": "code",
   "execution_count": null,
   "metadata": {
    "collapsed": true
   },
   "outputs": [],
   "source": [
    "from __future__ import print_function\n",
    "import os.path\n",
    "import ROOT\n",
    "\n",
    "# ROOT.gSystem.AddDynamicPath(\"/work/dune-docker-home/ups/duneanaobj/v01_01_00/slf7.x86_64.e15.gv1.debug/lib\")\n",
    "# ROOT.gSystem.Load(\"libduneanaobj_StandardRecord\")\n",
    "# ROOT.gSystem.Load(\"libduneanaobj_StandardRecord_dict\")\n",
    "prefix = \"/home/jeremy/data\" if os.path.isdir(\"/home/jeremy\") else \"\"\n",
    "oldcaf = ROOT.TFile(prefix + \"/dune/data/users/jwolcott/nd/nd-lar-reco/caf/FHC.1000001.CAF.root\")\n",
    "newcaf = ROOT.TFile(prefix + \"/dune/data/users/jwolcott/scratch/FHC.1000001.CAF.root\")\n",
    "\n",
    "assert not any(f.IsZombie() for f in (oldcaf, newcaf))\n",
    "print(\"files loaded ok\")"
   ]
  },
  {
   "cell_type": "code",
   "execution_count": null,
   "outputs": [],
   "source": [
    "t = newcaf.Get(\"globalTree\")\n",
    "t.GetEntry(0)\n",
    "g = getattr(t, \"global\")\n",
    "print(g.wgts.params[0].name)\n",
    "\n",
    "wgt_branches = [p.name for p in g.wgts.params]\n",
    "# for p in g.wgts.params:\n",
    "#      print(p.name)\n",
    "# for syst_param_header in b.GetValuePointer():\n",
    "#     print(syst_param_header.name)\n",
    "# for w in b.GetValue():\n",
    "#     print(w.name)\n",
    "print(wgt_branches)"
   ],
   "metadata": {
    "collapsed": false,
    "pycharm": {
     "name": "#%%\n"
    }
   }
  },
  {
   "cell_type": "code",
   "execution_count": null,
   "outputs": [],
   "source": [
    "import pprint\n",
    "\n",
    "trees = {\n",
    "    \"old\": oldcaf.Get(\"caf\"),\n",
    "    \"new\": newcaf.Get(\"cafTree\"),\n",
    "}\n",
    "varlist = [b.GetName() for b in trees[\"old\"].GetListOfBranches()]\n",
    "print(len(varlist), \"total branches from old tree:\", varlist)\n",
    "\n",
    "matched_branches = set([s for s in varlist if trees[\"new\"].GetBranch(\"rec.%s\" % s) or trees[\"new\"].GetBranch(s)])\n",
    "unmatched_branches = set(varlist) - matched_branches\n",
    "\n",
    "old_wgt_branches = set()\n",
    "recovered_wgt_branches = 0\n",
    "for br in set(unmatched_branches):\n",
    "    br_root = None\n",
    "    if br.startswith(\"wgt_\"):\n",
    "        br_root = br[4:]\n",
    "    elif br.endswith(\"_cvwgt\"):\n",
    "        br_root = br[:-6]\n",
    "    elif br.endswith(\"_nshifts\"):\n",
    "        br_root = br[:-8]\n",
    "    else:\n",
    "        continue\n",
    "#    print(\"looking at weight branch root:\", br_root)\n",
    "\n",
    "    if br_root in wgt_branches:\n",
    "#        print('matched:', br_root)\n",
    "        old_wgt_branches.add(br_root)\n",
    "        unmatched_branches.remove(br)\n",
    "        recovered_wgt_branches += 1\n",
    "\n",
    "print(len(matched_branches) + recovered_wgt_branches, \"matched branches:\", pprint.pformat(matched_branches | old_wgt_branches))\n",
    "if len(unmatched_branches) > 0:\n",
    "    print(len(unmatched_branches), \"unmatched branches:\", pprint.pformat(sorted(unmatched_branches)))"
   ],
   "metadata": {
    "collapsed": false,
    "pycharm": {
     "name": "#%%\n"
    }
   }
  },
  {
   "cell_type": "code",
   "execution_count": null,
   "outputs": [],
   "source": [
    "print(trees[\"new\"].GetBranch(\"Q2\"))"
   ],
   "metadata": {
    "collapsed": false,
    "pycharm": {
     "name": "#%%\n"
    }
   }
  },
  {
   "cell_type": "code",
   "execution_count": null,
   "outputs": [],
   "source": [
    "def check_branch(old_brname, new_brname, trees, canvases):\n",
    "    trees[\"old\"].Draw(\"%s>>hold_%s\" % (old_brname, old_brname), \"\", \"goff\")\n",
    "    hold = getattr(ROOT, \"hold_%s\" % old_brname)\n",
    "\n",
    "    hnew = ROOT.TH1F(hold)\n",
    "    hnew.SetName(\"hnew_%s\" % new_brname)\n",
    "    trees[\"new\"].Draw(\"rec.%s>>hnew_%s\" % (new_brname, new_brname), \"\", \"goff\")\n",
    "\n",
    "    diff = ROOT.TH1F(hnew)\n",
    "    diff.SetName(\"diff_%s\" % old_brname)\n",
    "    diff.Add(hold, -1)\n",
    "\n",
    "    integral = diff.Integral()\n",
    "\n",
    "    if integral != 0:\n",
    "        print(old_brname, \"integral nonzero:\", integral)\n",
    "        c = ROOT.TCanvas()\n",
    "\n",
    "        hold.DrawCopy()\n",
    "\n",
    "        hnew.SetLineColor(ROOT.kRed)\n",
    "        hnew.DrawCopy(\"same\")\n",
    "        c.Draw()\n",
    "\n",
    "        canvases.append(c)\n",
    "    else:\n",
    "         print(old_brname, \"is ok\")\n",
    "\n",
    "    return canvases\n",
    "\n",
    "canvases = []\n",
    "for var in matched_branches:\n",
    "    check_branch(var, var, trees, canvases)\n",
    "\n",
    "for br_root in old_wgt_branches:\n",
    "    for old_brname_template, new_brname_template in \\\n",
    "\t\t    ((\"wgt_%s\", \"rec.xsSyst_wgt[%d]\"), (\"%s_cvwgt\", \"rec.cvwgt[%d]\")):\n",
    "        check_branch(old_brname_template % br_root, new_brname_template % wgt_branches.index(br_root),\n",
    "                     trees, canvases)"
   ],
   "metadata": {
    "collapsed": false,
    "pycharm": {
     "name": "#%%\n"
    }
   }
  }
 ],
 "metadata": {
  "kernelspec": {
   "name": "python3",
   "language": "python",
   "display_name": "Python 3"
  },
  "language_info": {
   "codemirror_mode": {
    "name": "ipython",
    "version": 2
   },
   "file_extension": ".py",
   "mimetype": "text/x-python",
   "name": "python",
   "nbconvert_exporter": "python",
   "pygments_lexer": "ipython2",
   "version": "2.7.6"
  }
 },
 "nbformat": 4,
 "nbformat_minor": 0
}